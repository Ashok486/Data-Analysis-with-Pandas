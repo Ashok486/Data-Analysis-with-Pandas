{
 "cells": [
  {
   "cell_type": "markdown",
   "id": "54ef7e02-0f89-443c-a3da-e6a08855f98c",
   "metadata": {},
   "source": [
    "To perform numerical analysis using the NumPy library in Jupyter Notebook, follow these steps:"
   ]
  },
  {
   "cell_type": "markdown",
   "id": "5aee7e79-fcf1-4525-92a2-e1ff1f769bc8",
   "metadata": {},
   "source": [
    "1. Install NumPy\n",
    "\n",
    "If you don't already have NumPy installed, you can install it using the following command:"
   ]
  },
  {
   "cell_type": "code",
   "execution_count": 1,
   "id": "0cc25ee2-2d1a-4470-9833-3137f8d19097",
   "metadata": {},
   "outputs": [
    {
     "name": "stdout",
     "output_type": "stream",
     "text": [
      "Requirement already satisfied: numpy in c:\\users\\ashok\\appdata\\local\\programs\\python\\python312\\lib\\site-packages (2.1.0)\n"
     ]
    }
   ],
   "source": [
    "!pip install numpy"
   ]
  },
  {
   "cell_type": "markdown",
   "id": "725da6cf-bb7c-4041-893a-c77409d95f5c",
   "metadata": {},
   "source": [
    "2. Import the NumPy Library\n",
    "\n",
    "\n",
    "Import NumPy at the beginning of your notebook to use its functionality."
   ]
  },
  {
   "cell_type": "code",
   "execution_count": 2,
   "id": "25f97d41-f30e-412f-8218-5632fd66f22f",
   "metadata": {},
   "outputs": [],
   "source": [
    "import numpy as np"
   ]
  },
  {
   "cell_type": "markdown",
   "id": "55e06957-aeb2-4b82-966e-c73bf27d2d2f",
   "metadata": {},
   "source": [
    "3. Basic NumPy Operations\n",
    "\n",
    "NumPy is designed for efficient numerical computation. Let's go over some basic operations.\n",
    "\n",
    "a) Creating Arrays\n",
    "\n",
    "NumPy's main feature is its ability to handle arrays. You can create arrays using several methods:"
   ]
  },
  {
   "cell_type": "code",
   "execution_count": 3,
   "id": "643b1bc0-c7ac-4cf5-aa57-e47d08de00f7",
   "metadata": {},
   "outputs": [],
   "source": [
    "# Create an array from a list\n",
    "arr = np.array([1, 2, 3, 4, 5])\n",
    "\n",
    "# Create a 2D array (matrix)\n",
    "matrix = np.array([[1, 2], [3, 4]])\n",
    "\n",
    "# Create an array of zeros\n",
    "zeros = np.zeros((3, 3))\n",
    "\n",
    "# Create an array of ones\n",
    "ones = np.ones((2, 3))\n",
    "\n",
    "# Create an array with a range of numbers\n",
    "range_arr = np.arange(0, 10, 2)  # Start at 0, end before 10, step by 2\n",
    "\n",
    "# Create a random array\n",
    "random_arr = np.random.rand(4)  # Array of 4 random numbers\n"
   ]
  },
  {
   "cell_type": "markdown",
   "id": "3fc63d7e-8768-4bfb-b200-cd808a42a697",
   "metadata": {},
   "source": [
    "b) Array Operations\n",
    "\n",
    "NumPy allows for element-wise operations on arrays. You can perform operations like addition, subtraction, multiplication, division, etc., directly on NumPy arrays."
   ]
  },
  {
   "cell_type": "code",
   "execution_count": 4,
   "id": "2c74e84e-5a5d-425f-8ab4-e9bf4275cc1a",
   "metadata": {},
   "outputs": [],
   "source": [
    "# Create two arrays\n",
    "a = np.array([1, 2, 3])\n",
    "b = np.array([4, 5, 6])\n",
    "\n",
    "# Element-wise addition, subtraction, etc.\n",
    "add = a + b       # [5, 7, 9]\n",
    "subtract = a - b  # [-3, -3, -3]\n",
    "multiply = a * b  # [4, 10, 18]\n",
    "divide = a / b    # [0.25, 0.4, 0.5]\n",
    "\n",
    "# Scalar operations\n",
    "scalar_mult = a * 2  # [2, 4, 6]\n"
   ]
  },
  {
   "cell_type": "markdown",
   "id": "1ec95af5-c047-4176-bab8-65776d6acfbe",
   "metadata": {},
   "source": [
    "4. NumPy Array Functions\n",
    "\n",
    "NumPy offers a wide range of mathematical functions to perform calculations on arrays.\n",
    "\n",
    "a) Mathematical Functions"
   ]
  },
  {
   "cell_type": "code",
   "execution_count": 6,
   "id": "b4ed41f3-48e7-411b-a1e9-a2c39032c95f",
   "metadata": {},
   "outputs": [],
   "source": [
    "# Create an array\n",
    "arr = np.array([1, 2, 3, 4, 5])\n",
    "\n",
    "# Apply various mathematical functions\n",
    "square = np.square(arr)         # Square each element\n",
    "sqrt = np.sqrt(arr)             # Square root of each element\n",
    "log = np.log(arr)               # Natural logarithm of each element\n",
    "exp = np.exp(arr)               # Exponential of each element\n"
   ]
  },
  {
   "cell_type": "markdown",
   "id": "e1e29166-0f73-490f-92da-31bac5282039",
   "metadata": {},
   "source": [
    "b) Statistical Operations\n",
    "\n",
    "NumPy allows you to calculate statistics like the mean, standard deviation, sum, etc."
   ]
  },
  {
   "cell_type": "code",
   "execution_count": 7,
   "id": "731b5a15-82af-447c-b7cd-c88f564c1574",
   "metadata": {},
   "outputs": [],
   "source": [
    "# Create an array\n",
    "arr = np.array([1, 2, 3, 4, 5])\n",
    "\n",
    "# Statistical operations\n",
    "mean = np.mean(arr)          # Calculate mean\n",
    "std_dev = np.std(arr)        # Calculate standard deviation\n",
    "sum_arr = np.sum(arr)        # Calculate sum\n",
    "min_val = np.min(arr)        # Minimum value in array\n",
    "max_val = np.max(arr)        # Maximum value in array"
   ]
  },
  {
   "cell_type": "markdown",
   "id": "eb200dbe-63cb-4b9c-aaae-a51b8344302e",
   "metadata": {},
   "source": [
    "5. Linear Algebra with NumPy\n",
    "\n",
    "NumPy has built-in functions for linear algebra calculations such as matrix multiplication, inversion, eigenvalues, etc.\n",
    "\n",
    "a) Matrix Multiplication"
   ]
  },
  {
   "cell_type": "code",
   "execution_count": 8,
   "id": "c5152a80-c9e1-49bf-90a6-bb84d2bbcade",
   "metadata": {},
   "outputs": [],
   "source": [
    "# Create two matrices\n",
    "matrix_a = np.array([[1, 2], [3, 4]])\n",
    "matrix_b = np.array([[5, 6], [7, 8]])\n",
    "\n",
    "# Matrix multiplication\n",
    "matrix_product = np.dot(matrix_a, matrix_b)  # OR matrix_a @ matrix_b\n"
   ]
  },
  {
   "cell_type": "markdown",
   "id": "e68ea4d9-58fc-4a47-841a-fbbfc8fe5321",
   "metadata": {},
   "source": [
    "b) Matrix Transpose and Inverse"
   ]
  },
  {
   "cell_type": "code",
   "execution_count": 9,
   "id": "70e5c30b-d349-4294-8c1e-03e58c8e5b49",
   "metadata": {},
   "outputs": [],
   "source": [
    "# Transpose of a matrix\n",
    "matrix_transpose = np.transpose(matrix_a)\n",
    "\n",
    "# Inverse of a matrix\n",
    "matrix_inverse = np.linalg.inv(matrix_a)"
   ]
  },
  {
   "cell_type": "markdown",
   "id": "783297ae-9477-4622-bcf7-2ce945aa1923",
   "metadata": {},
   "source": [
    "c) Eigenvalues and Eigenvectors"
   ]
  },
  {
   "cell_type": "code",
   "execution_count": 10,
   "id": "7bd11072-7604-4abe-9a95-d44f1b41a875",
   "metadata": {},
   "outputs": [],
   "source": [
    "# Eigenvalues and eigenvectors\n",
    "eigenvalues, eigenvectors = np.linalg.eig(matrix_a)"
   ]
  },
  {
   "cell_type": "markdown",
   "id": "f315c65e-0f6b-4aaf-afcf-b67deb7ca2b3",
   "metadata": {},
   "source": [
    "6. Numerical Integration and Differentiation\n",
    "\n",
    "NumPy can be used for numerical integration and differentiation, though SciPy is usually used for more advanced tasks.\n",
    "\n",
    "Example: Numerical Differentiation using Central Differences"
   ]
  },
  {
   "cell_type": "code",
   "execution_count": 11,
   "id": "5515ab3d-6e5e-4120-be4b-1e66b009bf02",
   "metadata": {},
   "outputs": [],
   "source": [
    "# Define a function\n",
    "def f(x):\n",
    "    return x**2 + 2*x + 1\n",
    "\n",
    "# Numerical differentiation using central differences\n",
    "x = np.array([1, 2, 3, 4, 5])\n",
    "h = 1e-5  # Small step size\n",
    "derivative = (f(x + h) - f(x - h)) / (2 * h)"
   ]
  },
  {
   "cell_type": "markdown",
   "id": "7db0be64-78d6-496c-b09b-c01f76f6108f",
   "metadata": {},
   "source": [
    "7. Solving Systems of Linear Equations\n",
    "\n",
    "You can solve systems of linear equations using NumPy’s linalg.solve() function.\n",
    "\n",
    "Example: Solve Ax = b"
   ]
  },
  {
   "cell_type": "code",
   "execution_count": 12,
   "id": "7efdde19-fa09-4e48-8b6d-7d06a708cce2",
   "metadata": {},
   "outputs": [],
   "source": [
    "# Coefficient matrix A\n",
    "A = np.array([[3, 1], [1, 2]])\n",
    "\n",
    "# Right-hand side vector b\n",
    "b = np.array([9, 8])\n",
    "\n",
    "# Solve for x\n",
    "x = np.linalg.solve(A, b)\n"
   ]
  },
  {
   "cell_type": "markdown",
   "id": "5deb92df-0a2d-442e-bfb3-80021b6044a2",
   "metadata": {},
   "source": [
    "8. Random Number Generation\n",
    "\n",
    "NumPy can generate random numbers and perform operations on them.\n",
    "\n",
    "Example: Generate Random Numbers"
   ]
  },
  {
   "cell_type": "code",
   "execution_count": 13,
   "id": "4cf6b650-5137-472b-9dca-9909f37857db",
   "metadata": {},
   "outputs": [],
   "source": [
    "# Generate random numbers between 0 and 1\n",
    "rand_nums = np.random.rand(5)\n",
    "\n",
    "# Generate random integers\n",
    "rand_ints = np.random.randint(0, 10, size=5)\n",
    "\n",
    "# Set random seed for reproducibility\n",
    "np.random.seed(42)\n"
   ]
  },
  {
   "cell_type": "markdown",
   "id": "3a0bc4dd-e1aa-4561-8ebd-4c4aae5e022e",
   "metadata": {},
   "source": [
    "9. Fourier Transform\n",
    "\n",
    "NumPy has a fast Fourier transform (FFT) function to analyze the frequency domain.\n",
    "\n",
    "Example: FFT of a Signal"
   ]
  },
  {
   "cell_type": "code",
   "execution_count": 14,
   "id": "37c0b6cc-ab3f-454b-9857-3a80e00a2263",
   "metadata": {},
   "outputs": [
    {
     "data": {
      "image/png": "[encoded data removed]",
      "text/plain": [
       "<Figure size 640x480 with 1 Axes>"
      ]
     },
     "metadata": {},
     "output_type": "display_data"
    }
   ],
   "source": [
    "# Create a sample signal\n",
    "x = np.linspace(0, 2 * np.pi, 100)\n",
    "y = np.sin(x)\n",
    "\n",
    "# Compute FFT\n",
    "fft_y = np.fft.fft(y)\n",
    "\n",
    "# Frequency domain representation\n",
    "frequencies = np.fft.fftfreq(len(y))\n",
    "\n",
    "# Plot the FFT result\n",
    "import matplotlib.pyplot as plt\n",
    "plt.plot(frequencies, np.abs(fft_y))\n",
    "plt.title('FFT of the signal')\n",
    "plt.show()"
   ]
  },
  {
   "cell_type": "markdown",
   "id": "e61c5ca9-a427-42a6-8cbe-0cb4e802734c",
   "metadata": {},
   "source": [
    "10. Example: Numerical Analysis Workflow\n",
    "\n",
    "Here’s a full workflow that covers many of the operations described above:"
   ]
  },
  {
   "cell_type": "code",
   "execution_count": 15,
   "id": "16fbe2cb-a925-4c23-aace-0e5f1c055241",
   "metadata": {},
   "outputs": [
    {
     "name": "stderr",
     "output_type": "stream",
     "text": [
      "C:\\Users\\Ashok\\AppData\\Local\\Temp\\ipykernel_5592\\1561534090.py:17: DeprecationWarning: `trapz` is deprecated. Use `trapezoid` instead, or one of the numerical integration functions in `scipy.integrate`.\n",
      "  integral = np.trapz(y, x)\n"
     ]
    },
    {
     "data": {
      "image/png": "[encoded data removed]",
      "text/plain": [
       "<Figure size 640x480 with 1 Axes>"
      ]
     },
     "metadata": {},
     "output_type": "display_data"
    },
    {
     "name": "stdout",
     "output_type": "stream",
     "text": [
      "Numerical Integration (Trapezoidal): 26.837507586332155\n"
     ]
    }
   ],
   "source": [
    "import numpy as np\n",
    "import matplotlib.pyplot as plt\n",
    "\n",
    "# Define a simple function\n",
    "def f(x):\n",
    "    return np.sin(x) + 0.5*x\n",
    "\n",
    "# Generate data points\n",
    "x = np.linspace(0, 10, 100)\n",
    "y = f(x)\n",
    "\n",
    "# Perform numerical differentiation\n",
    "h = 1e-5\n",
    "dy_dx = (f(x + h) - f(x - h)) / (2 * h)\n",
    "\n",
    "# Perform numerical integration using trapezoidal rule\n",
    "integral = np.trapz(y, x)\n",
    "\n",
    "# Plot the function and its derivative\n",
    "plt.plot(x, y, label='f(x)')\n",
    "plt.plot(x, dy_dx, label=\"f'(x)\", linestyle='--')\n",
    "plt.title('Function and its Derivative')\n",
    "plt.xlabel('x')\n",
    "plt.ylabel('y')\n",
    "plt.legend()\n",
    "plt.show()\n",
    "\n",
    "# Output the integral result\n",
    "print(f'Numerical Integration (Trapezoidal): {integral}')"
   ]
  },
  {
   "cell_type": "code",
   "execution_count": null,
   "id": "5ff8b55c-74cd-4cbb-a89a-eb7ce2dbf3e7",
   "metadata": {},
   "outputs": [],
   "source": []
  }
 ],
 "metadata": {
  "kernelspec": {
   "display_name": "Python 3 (ipykernel)",
   "language": "python",
   "name": "python3"
  },
  "language_info": {
   "codemirror_mode": {
    "name": "ipython",
    "version": 3
   },
   "file_extension": ".py",
   "mimetype": "text/x-python",
   "name": "python",
   "nbconvert_exporter": "python",
   "pygments_lexer": "ipython3",
   "version": "3.12.5"
  }
 },
 "nbformat": 4,
 "nbformat_minor": 5
}
